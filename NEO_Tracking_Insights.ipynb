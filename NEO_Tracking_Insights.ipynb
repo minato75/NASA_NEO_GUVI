{
  "nbformat": 4,
  "nbformat_minor": 0,
  "metadata": {
    "colab": {
      "provenance": []
    },
    "kernelspec": {
      "name": "python3",
      "display_name": "Python 3"
    },
    "language_info": {
      "name": "python"
    }
  },
  "cells": [
    {
      "cell_type": "code",
      "source": [
        "!pip install requests\n",
        "!pip install pymysql\n",
        "!pip install pandas\n",
        "!pip install mysql-connector-python"
      ],
      "metadata": {
        "id": "TWLjewfq0J1b"
      },
      "execution_count": null,
      "outputs": []
    },
    {
      "cell_type": "code",
      "source": [
        "import requests\n",
        "import json\n",
        "import pymysql\n",
        "import mysql.connector\n",
        "import datetime"
      ],
      "metadata": {
        "id": "6Jbck84X0fo_"
      },
      "execution_count": 79,
      "outputs": []
    },
    {
      "cell_type": "markdown",
      "source": [
        "# **Data_Collection,Cleaning_and_Transformation**"
      ],
      "metadata": {
        "id": "KLpZghYx5BrB"
      }
    },
    {
      "cell_type": "code",
      "execution_count": 80,
      "metadata": {
        "id": "bXFTxchtz6cz"
      },
      "outputs": [],
      "source": [
        "\n",
        "API_KEY =\"iybcULnPqJDgAcRaKA77cL9cA2zGtciiAuDEj5l6\"\n",
        "url = f\"https://api.nasa.gov/neo/rest/v1/feed?start_date=2025-05-01&end_date=2025-05-08&api_key={API_KEY}\"\n",
        "target = 10000\n",
        "ast_data =[]\n",
        "count = 1\n",
        "while len(ast_data)<target:\n",
        "  response = requests.get(url)\n",
        "  data = response.json()\n",
        "  total_details =data['near_earth_objects']\n",
        "  for date,ast_details in total_details.items():\n",
        "    for ast in ast_details:\n",
        "      ast_data.append(dict(\n",
        "          serial_no = count,        #For_Reference\n",
        "          id =int(ast['id']),\n",
        "          name = ast['name'],\n",
        "          absolute_magnitude_h = float(ast['absolute_magnitude_h']),\n",
        "          estimated_diameter_min_km = float(ast['estimated_diameter']['kilometers']['estimated_diameter_min']),\n",
        "          estimated_diameter_max_km = float(ast['estimated_diameter']['kilometers']['estimated_diameter_max']),\n",
        "          is_potentially_hazardous_asteroid = ast['is_potentially_hazardous_asteroid'],\n",
        "          neo_reference_id = int(ast['neo_reference_id']),\n",
        "          close_approach_date =datetime.datetime.strptime(ast['close_approach_data'][0]['close_approach_date'], \"%Y-%m-%d\").date(),\n",
        "          reltive_velocity_kmph = float(ast['close_approach_data'][0]['relative_velocity']['kilometers_per_hour']),\n",
        "          astronomical = float(ast['close_approach_data'][0]['miss_distance']['astronomical']),\n",
        "          miss_distance_km = float(ast['close_approach_data'][0]['miss_distance']['kilometers']),\n",
        "          miss_distance_lunar = float(ast['close_approach_data'][0]['miss_distance']['lunar']),\n",
        "          orbiting_body =ast['close_approach_data'][0]['orbiting_body']\n",
        "\n",
        "                           )\n",
        "      )\n",
        "\n",
        "      count+=1\n",
        "      if len(ast_data) == target:\n",
        "        break\n",
        "    if len(ast_data) == target:\n",
        "        break\n",
        "  url = data['links'].get('next')"
      ]
    },
    {
      "cell_type": "code",
      "source": [
        "ast_data"
      ],
      "metadata": {
        "id": "pqvLZgVCSp-x"
      },
      "execution_count": null,
      "outputs": []
    },
    {
      "cell_type": "code",
      "source": [
        "import pandas as pd\n",
        "\n",
        "df = pd.DataFrame(ast_data)\n",
        "\n",
        "# Export to CSV\n",
        "df.to_csv('ast_data.csv', index=False)\n",
        "\n",
        "# Export to Excel\n",
        "df.to_excel('ast_data.xlsx', index=False)\n",
        "\n",
        "print(\"Exported to ast_data.csv and ast_data.xlsx\")\n"
      ],
      "metadata": {
        "colab": {
          "base_uri": "https://localhost:8080/"
        },
        "id": "HDKUgcx-PGqk",
        "outputId": "ba2e4143-5d1f-4b0a-9990-5a683b8376c6"
      },
      "execution_count": 81,
      "outputs": [
        {
          "output_type": "stream",
          "name": "stdout",
          "text": [
            "Exported to ast_data.csv and ast_data.xlsx\n"
          ]
        }
      ]
    },
    {
      "cell_type": "markdown",
      "source": [
        "# **SQL connection and DB & Table creation **"
      ],
      "metadata": {
        "id": "yfVSRUg0KoZo"
      }
    },
    {
      "cell_type": "code",
      "source": [
        "connection = mysql.connector.connect(                             #SQL_Connection\n",
        "    host = \"gateway01.eu-central-1.prod.aws.tidbcloud.com\",\n",
        "    user = \"m5Xt4HUDrniTj1o.root\",\n",
        "    password= \"JhWWCZgwpY56epBA\",\n",
        "   )\n",
        "cur_sor = connection.cursor()"
      ],
      "metadata": {
        "id": "mgqgvBTGSYcs"
      },
      "execution_count": 67,
      "outputs": []
    },
    {
      "cell_type": "code",
      "source": [
        "cur_sor.execute(\"create database NEO\")"
      ],
      "metadata": {
        "id": "9RuWTvYiKFY2"
      },
      "execution_count": null,
      "outputs": []
    },
    {
      "cell_type": "code",
      "source": [
        "cur_sor.execute(\"use NEO\")"
      ],
      "metadata": {
        "id": "lJTrsKtnyPYh"
      },
      "execution_count": 68,
      "outputs": []
    },
    {
      "cell_type": "code",
      "source": [
        "cur_sor = connection.cursor()"
      ],
      "metadata": {
        "id": "TXGK6nSLRVb3"
      },
      "execution_count": 69,
      "outputs": []
    },
    {
      "cell_type": "code",
      "source": [
        "cur_sor.execute(\"use NEO\")\n",
        "cur_sor.execute('''create table if not exists asteroids(\n",
        "  id INT,\n",
        "  name VARCHAR(255),\n",
        "  absolute_magnitude_h FLOAT,\n",
        "  estimated_diameter_min_km FLOAT,\n",
        "  estimated_diameter_max_km FLOAT,\n",
        "  is_potentially_hazardous_asteroid BOOLEAN\n",
        ")''')\n",
        "connection.commit()"
      ],
      "metadata": {
        "id": "4K-OTGoOMDJI"
      },
      "execution_count": null,
      "outputs": []
    },
    {
      "cell_type": "code",
      "source": [
        "line = 1;\n",
        "for ast in ast_data:\n",
        "  print(\"Execution line \", line  )#To_Verify_that_lines_are_executing\n",
        "  cur_sor.execute('''insert into asteroids(id,name,absolute_magnitude_h,estimated_diameter_min_km,estimated_diameter_max_km,is_potentially_hazardous_asteroid) values(%s,%s,%s,%s,%s,%s)''',(ast['id'],ast['name'],ast['absolute_magnitude_h'],ast['estimated_diameter_min_km'],ast['estimated_diameter_max_km'],ast['is_potentially_hazardous_asteroid']))\n",
        "  line+=1\n",
        "connection.commit()"
      ],
      "metadata": {
        "collapsed": true,
        "id": "lU9MtWG4PWd2"
      },
      "execution_count": null,
      "outputs": []
    },
    {
      "cell_type": "code",
      "source": [
        "cur_sor.execute(\"use NEO\")\n",
        "cur_sor.execute('''create table if not exists close_approach\n",
        "(\n",
        "  neo_reference_id INT,\n",
        "  close_approach_date DATE,\n",
        "  relative_velocity_kmph FLOAT,\n",
        "  astronomical FLOAT,\n",
        "  miss_distance_km FLOAT,\n",
        "  miss_distance_lunar FLOAT,\n",
        "  orbiting_body VARCHAR(255)\n",
        ")''')\n",
        "connection.commit()"
      ],
      "metadata": {
        "id": "WiIFy40OQtuP"
      },
      "execution_count": null,
      "outputs": []
    },
    {
      "cell_type": "code",
      "source": [
        "line = 1;\n",
        "for ast in ast_data:\n",
        "  print(\"Execution line \", line  )\n",
        "  cur_sor.execute('''insert into close_approach(neo_reference_id,close_approach_date,relative_velocity_kmph,astronomical,miss_distance_km,miss_distance_lunar,orbiting_body) values(%s,%s,%s,%s,%s,%s,%s)''',(ast['neo_reference_id'],ast['close_approach_date'],ast['reltive_velocity_kmph'],ast['astronomical'],ast['miss_distance_km'],ast['miss_distance_lunar'],ast['orbiting_body']))\n",
        "  line+=1\n",
        "connection.commit()"
      ],
      "metadata": {
        "id": "FfMzoZfPQp6u"
      },
      "execution_count": null,
      "outputs": []
    },
    {
      "cell_type": "markdown",
      "source": [
        "#**SQL_Queries**"
      ],
      "metadata": {
        "id": "8YiU3qBqKphS"
      }
    },
    {
      "cell_type": "code",
      "source": [
        "#Query_1\n",
        "#Count how many times each asteroid has approached Earth\n",
        "cur_sor.execute('''select neo_reference_id as AsteroidID ,count(*) as HowManyTimesApproached from close_approach group by neo_reference_id order by HowManyTimesApproached desc''')\n",
        "cur_sor.fetchall()"
      ],
      "metadata": {
        "id": "LbZuNhYnGGQS"
      },
      "execution_count": null,
      "outputs": []
    },
    {
      "cell_type": "code",
      "source": [
        "#Query_2\n",
        "#Average velocity of each asteroid over multiple approaches\n",
        "cur_sor.execute('''select neo_reference_id as AsteroidID,avg(relative_velocity_kmph) as AverageVelocityKmph from close_approach group by AsteroidID having count(AsteroidID)>1 order by AverageVelocityKmph desc ''')\n",
        "cur_sor.fetchall()"
      ],
      "metadata": {
        "id": "wo8QAI0COYeg"
      },
      "execution_count": null,
      "outputs": []
    },
    {
      "cell_type": "code",
      "source": [
        "#Query_3\n",
        "#List top 10 fastest asteroids\n",
        "cur_sor.execute('''select neo_reference_id as AsteroidID,relative_velocity_kmph as Velocity_Kmph from close_approach order by Velocity_Kmph desc limit 10''')\n",
        "cur_sor.fetchall()"
      ],
      "metadata": {
        "id": "7HyxeCz-UXcw"
      },
      "execution_count": null,
      "outputs": []
    },
    {
      "cell_type": "code",
      "source": [
        "#Query_4\n",
        "#Find potentially hazardous asteroids that have approached Earth more than 3 times\n",
        "cur_sor.execute('''select asteroids.id as AsteroidID,count(close_approach.neo_reference_id) as ApproachCount from asteroids  join close_approach  on asteroids.id = close_approach.neo_reference_id where asteroids.is_potentially_hazardous_asteroid = TRUE group by asteroids.id having count(*)>3 order by ApproachCount desc''')\n",
        "cur_sor.fetchall()"
      ],
      "metadata": {
        "id": "NUwbSlTgVWMm"
      },
      "execution_count": null,
      "outputs": []
    },
    {
      "cell_type": "code",
      "source": [
        "#Query_5\n",
        "#Find the month with the most asteroid approaches\n",
        "cur_sor.execute('''select date_format(close_approach_date,'%Y-%m') as Month,count(*) as count from close_approach group by Month order by count Desc limit 1''')\n",
        "cur_sor.fetchall()"
      ],
      "metadata": {
        "id": "zrHwGq0hjj1q"
      },
      "execution_count": null,
      "outputs": []
    },
    {
      "cell_type": "code",
      "source": [
        "#Query_6\n",
        "#Get the asteroid with the fastest ever approach speed\n",
        "cur_sor.execute('''select asteroids.name,max(close_approach.relative_velocity_kmph) as SpeedinKmpH from asteroids join close_approach on asteroids.id = close_approach.neo_reference_id group by asteroids.name order by SpeedinKmpH desc''')\n",
        "cur_sor.fetchall()"
      ],
      "metadata": {
        "id": "zNAi-EsXndx3"
      },
      "execution_count": null,
      "outputs": []
    },
    {
      "cell_type": "code",
      "source": [
        "#Query_7\n",
        "#Sort asteroids by maximum estimated diameter (descending)\n",
        "cur_sor.execute('''select name,estimated_diameter_max_km from asteroids group by name,estimated_diameter_max_km order by estimated_diameter_max_km desc''')\n",
        "cur_sor.fetchall()"
      ],
      "metadata": {
        "id": "4YvHvuTMrCBh"
      },
      "execution_count": null,
      "outputs": []
    },
    {
      "cell_type": "code",
      "source": [
        "#Query_8\n",
        "#An asteroid whose closest approach is getting nearer over time\n",
        "cur_sor.execute('''select asteroids.name,close_approach.miss_distance_km,close_approach.close_approach_date from asteroids join close_approach on asteroids.id = close_approach.neo_reference_id order by close_approach.miss_distance_km, close_approach.close_approach_date desc limit 1  ''')\n",
        "cur_sor.fetchall()"
      ],
      "metadata": {
        "id": "2kIUEdkput8v"
      },
      "execution_count": null,
      "outputs": []
    },
    {
      "cell_type": "code",
      "source": [
        "#Query_9\n",
        "#Display the name of each asteroid along with the date and miss distance of its closest approach to Earth.\n",
        "\n",
        "cur_sor.execute('''select asteroids.name,close_approach.miss_distance_km,close_approach.close_approach_date from asteroids join close_approach on asteroids.id = close_approach.neo_reference_id order by close_approach.miss_distance_km, close_approach.close_approach_date desc  ''')\n",
        "cur_sor.fetchall()"
      ],
      "metadata": {
        "id": "OtIzqTT2uw0s"
      },
      "execution_count": null,
      "outputs": []
    },
    {
      "cell_type": "code",
      "source": [
        "#Query_10\n",
        "#List names of asteroids that approached Earth with velocity > 50,000 km/h\n",
        "cur_sor.execute('''select asteroids.name from asteroids join close_approach on asteroids.id = close_approach.neo_reference_id where (close_approach.relative_velocity_kmph > 50000) order by asteroids.name  desc  ''')\n",
        "cur_sor.fetchall()"
      ],
      "metadata": {
        "id": "aIUOcpEJuyeT"
      },
      "execution_count": null,
      "outputs": []
    },
    {
      "cell_type": "code",
      "source": [
        "#Query_11\n",
        "#Count how many approaches happened per month\n",
        "cur_sor.execute('''select date_format(close_approach.close_approach_date,'%Y-%m') as Month,count(*) as count from close_approach group by Month order by Month asc  ''')\n",
        "cur_sor.fetchall()"
      ],
      "metadata": {
        "id": "WGxXLoGHu0dG"
      },
      "execution_count": null,
      "outputs": []
    },
    {
      "cell_type": "code",
      "source": [
        "#Query_12\n",
        "#Find asteroid with the highest brightness (lowest magnitude value)\n",
        "cur_sor.execute('''select name,id,absolute_magnitude_h from asteroids where absolute_magnitude_h=(select min(absolute_magnitude_h) from asteroids)''')\n",
        "cur_sor.fetchall()"
      ],
      "metadata": {
        "id": "A9QUm_D2u0jZ"
      },
      "execution_count": null,
      "outputs": []
    },
    {
      "cell_type": "code",
      "source": [
        "#Query_13\n",
        "#Get number of hazardous vs non-hazardous asteroids\n",
        "cur_sor.execute('''select sum(is_potentially_hazardous_asteroid=true)as Hazard,sum(is_potentially_hazardous_asteroid=false) as NonHazard from asteroids ''')\n",
        "cur_sor.fetchall()"
      ],
      "metadata": {
        "id": "k5YcfD_bu0ob"
      },
      "execution_count": null,
      "outputs": []
    },
    {
      "cell_type": "code",
      "source": [
        "#Query_14\n",
        "#Find asteroids that passed closer than the Moon (lesser than 1 LD), along with their close approach date and distance.\n",
        "cur_sor.execute('''select asteroids.nameas Name_of_Asteroid,close_approach.miss_distance_lunar,close_approach.close_approach_date from asteroids join close_approach on asteroids.id = close_approach.neo_reference_id where (close_approach.miss_distance_lunar < 1) order by close_approach.miss_distance_lunar desc  ''')\n",
        "cur_sor.fetchall()\n"
      ],
      "metadata": {
        "id": "0Q1VtBQZu0r6"
      },
      "execution_count": null,
      "outputs": []
    },
    {
      "cell_type": "code",
      "source": [
        "#Query_15\n",
        "#Find asteroids that came within 0.05 AU(astronomical distance)\n",
        "cur_sor.execute('''select asteroids.name as Name_of_Asteroid,close_approach.astronomical from asteroids join close_approach on asteroids.id = close_approach.neo_reference_id where (close_approach.astronomical < 0.05) order by close_approach.astronomical desc  ''')\n",
        "cur_sor.fetchall()"
      ],
      "metadata": {
        "id": "AWT9sOZhu0wC"
      },
      "execution_count": null,
      "outputs": []
    },
    {
      "cell_type": "code",
      "source": [
        "#Query_16\n",
        "# Average estimated diameter of all asteroids\n",
        "cur_sor.execute('''select avg(estimated_diameter_max_km) from asteroids''')\n",
        "cur_sor.fetchall()"
      ],
      "metadata": {
        "id": "l4FwAPbFu0zn"
      },
      "execution_count": null,
      "outputs": []
    },
    {
      "cell_type": "code",
      "source": [
        "#Query_17\n",
        "#Find the asteroid with the most recorded approaches\n",
        "cur_sor.execute('''select asteroids.name as Name_of_Asteroid,count(close_approach.neo_reference_id) as No_of_times_approached from asteroids join close_approach on asteroids.id = close_approach.neo_reference_id group by asteroids.name order by count(close_approach.neo_reference_id) desc limit 1''')\n",
        "cur_sor.fetchall()"
      ],
      "metadata": {
        "colab": {
          "base_uri": "https://localhost:8080/"
        },
        "id": "64mqOnqNu03O",
        "outputId": "57a7a7b8-9798-4fb4-a2d0-c517e55f33bf"
      },
      "execution_count": 71,
      "outputs": [
        {
          "output_type": "execute_result",
          "data": {
            "text/plain": [
              "[('(2023 QB2)', 64)]"
            ]
          },
          "metadata": {},
          "execution_count": 71
        }
      ]
    },
    {
      "cell_type": "code",
      "source": [
        "#Query_18\n",
        "#Find asteroids that have approached Earth more than 1 year\n",
        "cur_sor.execute('''select asteroids.name as Name_of_Asteroid,count(distinct year(close_approach.close_approach_date)) as No_of_Years_approached from asteroids join close_approach on asteroids.id = close_approach.neo_reference_id group by asteroids.name having count(distinct year(close_approach.close_approach_date))>1 order by No_of_Years_approached desc''')\n",
        "cur_sor.fetchall()"
      ],
      "metadata": {
        "id": "pe8czgq5u0_j"
      },
      "execution_count": null,
      "outputs": []
    },
    {
      "cell_type": "code",
      "source": [
        "#Query_19\n",
        "#Total number of asteroid approaches each year\n",
        "cur_sor.execute('''select year(close_approach_date) as Year, count(*) as No_of_approches from close_approach group by year(close_approach_date) order by year(close_approach_date) asc''')\n",
        "cur_sor.fetchall()"
      ],
      "metadata": {
        "id": "GIUw8uOEu1L_"
      },
      "execution_count": null,
      "outputs": []
    },
    {
      "cell_type": "code",
      "source": [
        "#Query_20\n",
        "# Find asteroids that have only approached Earth once\n",
        "cur_sor.execute('''select asteroids.name as Name_of_Asteroid from asteroids join close_approach on asteroids.id = close_approach.neo_reference_id group by asteroids.name having count(distinct (close_approach.neo_reference_id))=1''')\n",
        "cur_sor.fetchall()"
      ],
      "metadata": {
        "id": "c6YAMe_ru1PV"
      },
      "execution_count": null,
      "outputs": []
    }
  ]
}